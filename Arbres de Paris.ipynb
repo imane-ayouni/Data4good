{
 "cells": [
  {
   "cell_type": "code",
   "execution_count": 48,
   "id": "78193b2e",
   "metadata": {},
   "outputs": [],
   "source": [
    "import pandas as pd"
   ]
  },
  {
   "cell_type": "code",
   "execution_count": 49,
   "id": "57ec0c3a",
   "metadata": {
    "scrolled": true
   },
   "outputs": [
    {
     "name": "stdout",
     "output_type": "stream",
     "text": [
      "Numéro d'arbres:  200137\n"
     ]
    }
   ],
   "source": [
    "df = pd.read_csv(r'C:\\Users\\imane\\OneDrive\\Desktop\\Data4good\\p2-arbres-fr.csv', sep =\";\", encoding = \"utf-8\")\n",
    "df.drop('id', axis = 1, inplace= True)\n",
    "df.drop(\"complement_addresse\",axis =1, inplace = True)\n",
    "df.drop(\"numero\",axis =1, inplace = True)\n",
    "df.drop(\"id_emplacement\",axis =1, inplace = True)\n",
    "df.drop(\"genre\",axis =1, inplace = True)\n",
    "df.drop(\"variete\",axis =1, inplace = True)\n",
    "df.drop(\"remarquable\",axis =1, inplace = True)\n",
    "df.drop(\"type_emplacement\",axis =1, inplace = True)\n",
    "print(\"Numéro d'arbres: \",len(df))\n"
   ]
  },
  {
   "cell_type": "code",
   "execution_count": 50,
   "id": "c23aa81a",
   "metadata": {},
   "outputs": [
    {
     "name": "stdout",
     "output_type": "stream",
     "text": [
      "Numéro d'arbres:  159899\n"
     ]
    }
   ],
   "source": [
    "df.drop(df.index[(df[\"circonference_cm\"] == 0)], axis = 0, inplace=True)\n",
    "df.drop(df.index[(df[\"hauteur_m\"] == 0)], axis = 0, inplace=True)\n",
    "df.drop(df.index[(df[\"circonference_cm\"] > 470)], axis = 0, inplace=True)\n",
    "df.drop(df.index[(df[\"hauteur_m\"] > 35 )], axis = 0, inplace=True)\n",
    "df.dropna(subset=[\"circonference_cm\"],inplace=True)\n",
    "df.dropna(subset=[\"hauteur_m\"],inplace=True)\n",
    "\n",
    "print(\"Numéro d'arbres: \",len(df))"
   ]
  },
  {
   "cell_type": "code",
   "execution_count": 51,
   "id": "00e24b3b",
   "metadata": {},
   "outputs": [],
   "source": [
    "df[\"hauteur_m\"] = 100 * df[\"hauteur_m\"]"
   ]
  },
  {
   "cell_type": "code",
   "execution_count": 52,
   "id": "3544fad8",
   "metadata": {},
   "outputs": [
    {
     "data": {
      "text/html": [
       "<div>\n",
       "<style scoped>\n",
       "    .dataframe tbody tr th:only-of-type {\n",
       "        vertical-align: middle;\n",
       "    }\n",
       "\n",
       "    .dataframe tbody tr th {\n",
       "        vertical-align: top;\n",
       "    }\n",
       "\n",
       "    .dataframe thead th {\n",
       "        text-align: right;\n",
       "    }\n",
       "</style>\n",
       "<table border=\"1\" class=\"dataframe\">\n",
       "  <thead>\n",
       "    <tr style=\"text-align: right;\">\n",
       "      <th></th>\n",
       "      <th>domanialite</th>\n",
       "      <th>arrondissement</th>\n",
       "      <th>lieu</th>\n",
       "      <th>libelle_francais</th>\n",
       "      <th>espece</th>\n",
       "      <th>circonference_cm</th>\n",
       "      <th>hauteur_cm</th>\n",
       "      <th>stade_developpement</th>\n",
       "      <th>geo_point_2d_a</th>\n",
       "      <th>geo_point_2d_b</th>\n",
       "    </tr>\n",
       "  </thead>\n",
       "  <tbody>\n",
       "    <tr>\n",
       "      <th>0</th>\n",
       "      <td>Jardin</td>\n",
       "      <td>PARIS 7E ARRDT</td>\n",
       "      <td>MAIRIE DU 7E 116 RUE DE GRENELLE PARIS 7E</td>\n",
       "      <td>Marronnier</td>\n",
       "      <td>hippocastanum</td>\n",
       "      <td>20</td>\n",
       "      <td>500</td>\n",
       "      <td>NaN</td>\n",
       "      <td>48.857620</td>\n",
       "      <td>2.320962</td>\n",
       "    </tr>\n",
       "    <tr>\n",
       "      <th>1</th>\n",
       "      <td>Jardin</td>\n",
       "      <td>PARIS 7E ARRDT</td>\n",
       "      <td>MAIRIE DU 7E 116 RUE DE GRENELLE PARIS 7E</td>\n",
       "      <td>If</td>\n",
       "      <td>baccata</td>\n",
       "      <td>65</td>\n",
       "      <td>800</td>\n",
       "      <td>A</td>\n",
       "      <td>48.857656</td>\n",
       "      <td>2.321031</td>\n",
       "    </tr>\n",
       "    <tr>\n",
       "      <th>2</th>\n",
       "      <td>Jardin</td>\n",
       "      <td>PARIS 7E ARRDT</td>\n",
       "      <td>MAIRIE DU 7E 116 RUE DE GRENELLE PARIS 7E</td>\n",
       "      <td>If</td>\n",
       "      <td>baccata</td>\n",
       "      <td>90</td>\n",
       "      <td>1000</td>\n",
       "      <td>A</td>\n",
       "      <td>48.857705</td>\n",
       "      <td>2.321061</td>\n",
       "    </tr>\n",
       "    <tr>\n",
       "      <th>3</th>\n",
       "      <td>Jardin</td>\n",
       "      <td>PARIS 7E ARRDT</td>\n",
       "      <td>MAIRIE DU 7E 116 RUE DE GRENELLE PARIS 7E</td>\n",
       "      <td>Erable</td>\n",
       "      <td>negundo</td>\n",
       "      <td>60</td>\n",
       "      <td>800</td>\n",
       "      <td>A</td>\n",
       "      <td>48.857722</td>\n",
       "      <td>2.321006</td>\n",
       "    </tr>\n",
       "    <tr>\n",
       "      <th>7</th>\n",
       "      <td>Jardin</td>\n",
       "      <td>PARIS 16E ARRDT</td>\n",
       "      <td>SQUARE ALEXANDRE ET RENE PARODI / 1 PLACE DE L...</td>\n",
       "      <td>Platane</td>\n",
       "      <td>x hispanica</td>\n",
       "      <td>260</td>\n",
       "      <td>1700</td>\n",
       "      <td>NaN</td>\n",
       "      <td>48.876722</td>\n",
       "      <td>2.280222</td>\n",
       "    </tr>\n",
       "    <tr>\n",
       "      <th>...</th>\n",
       "      <td>...</td>\n",
       "      <td>...</td>\n",
       "      <td>...</td>\n",
       "      <td>...</td>\n",
       "      <td>...</td>\n",
       "      <td>...</td>\n",
       "      <td>...</td>\n",
       "      <td>...</td>\n",
       "      <td>...</td>\n",
       "      <td>...</td>\n",
       "    </tr>\n",
       "    <tr>\n",
       "      <th>198874</th>\n",
       "      <td>Alignement</td>\n",
       "      <td>PARIS 20E ARRDT</td>\n",
       "      <td>RUE DU GENERAL NIESSEL</td>\n",
       "      <td>Chêne</td>\n",
       "      <td>cerris</td>\n",
       "      <td>20</td>\n",
       "      <td>500</td>\n",
       "      <td>NaN</td>\n",
       "      <td>48.848074</td>\n",
       "      <td>2.409116</td>\n",
       "    </tr>\n",
       "    <tr>\n",
       "      <th>198875</th>\n",
       "      <td>Alignement</td>\n",
       "      <td>PARIS 20E ARRDT</td>\n",
       "      <td>RUE DU GENERAL NIESSEL</td>\n",
       "      <td>Chêne</td>\n",
       "      <td>cerris</td>\n",
       "      <td>20</td>\n",
       "      <td>500</td>\n",
       "      <td>NaN</td>\n",
       "      <td>48.848226</td>\n",
       "      <td>2.409147</td>\n",
       "    </tr>\n",
       "    <tr>\n",
       "      <th>198876</th>\n",
       "      <td>Alignement</td>\n",
       "      <td>PARIS 20E ARRDT</td>\n",
       "      <td>RUE DU GENERAL NIESSEL</td>\n",
       "      <td>Chêne</td>\n",
       "      <td>cerris</td>\n",
       "      <td>20</td>\n",
       "      <td>500</td>\n",
       "      <td>NaN</td>\n",
       "      <td>48.848379</td>\n",
       "      <td>2.409179</td>\n",
       "    </tr>\n",
       "    <tr>\n",
       "      <th>198877</th>\n",
       "      <td>Alignement</td>\n",
       "      <td>PARIS 20E ARRDT</td>\n",
       "      <td>RUE DU GENERAL NIESSEL</td>\n",
       "      <td>Chêne</td>\n",
       "      <td>cerris</td>\n",
       "      <td>20</td>\n",
       "      <td>500</td>\n",
       "      <td>NaN</td>\n",
       "      <td>48.848533</td>\n",
       "      <td>2.409209</td>\n",
       "    </tr>\n",
       "    <tr>\n",
       "      <th>198878</th>\n",
       "      <td>Alignement</td>\n",
       "      <td>PARIS 20E ARRDT</td>\n",
       "      <td>RUE DU GENERAL NIESSEL</td>\n",
       "      <td>Chêne</td>\n",
       "      <td>cerris</td>\n",
       "      <td>20</td>\n",
       "      <td>500</td>\n",
       "      <td>NaN</td>\n",
       "      <td>48.848843</td>\n",
       "      <td>2.409275</td>\n",
       "    </tr>\n",
       "  </tbody>\n",
       "</table>\n",
       "<p>159899 rows × 10 columns</p>\n",
       "</div>"
      ],
      "text/plain": [
       "       domanialite   arrondissement  \\\n",
       "0           Jardin   PARIS 7E ARRDT   \n",
       "1           Jardin   PARIS 7E ARRDT   \n",
       "2           Jardin   PARIS 7E ARRDT   \n",
       "3           Jardin   PARIS 7E ARRDT   \n",
       "7           Jardin  PARIS 16E ARRDT   \n",
       "...            ...              ...   \n",
       "198874  Alignement  PARIS 20E ARRDT   \n",
       "198875  Alignement  PARIS 20E ARRDT   \n",
       "198876  Alignement  PARIS 20E ARRDT   \n",
       "198877  Alignement  PARIS 20E ARRDT   \n",
       "198878  Alignement  PARIS 20E ARRDT   \n",
       "\n",
       "                                                     lieu libelle_francais  \\\n",
       "0               MAIRIE DU 7E 116 RUE DE GRENELLE PARIS 7E       Marronnier   \n",
       "1               MAIRIE DU 7E 116 RUE DE GRENELLE PARIS 7E               If   \n",
       "2               MAIRIE DU 7E 116 RUE DE GRENELLE PARIS 7E               If   \n",
       "3               MAIRIE DU 7E 116 RUE DE GRENELLE PARIS 7E           Erable   \n",
       "7       SQUARE ALEXANDRE ET RENE PARODI / 1 PLACE DE L...          Platane   \n",
       "...                                                   ...              ...   \n",
       "198874                             RUE DU GENERAL NIESSEL            Chêne   \n",
       "198875                             RUE DU GENERAL NIESSEL            Chêne   \n",
       "198876                             RUE DU GENERAL NIESSEL            Chêne   \n",
       "198877                             RUE DU GENERAL NIESSEL            Chêne   \n",
       "198878                             RUE DU GENERAL NIESSEL            Chêne   \n",
       "\n",
       "               espece  circonference_cm  hauteur_cm stade_developpement  \\\n",
       "0       hippocastanum                20         500                 NaN   \n",
       "1             baccata                65         800                   A   \n",
       "2             baccata                90        1000                   A   \n",
       "3             negundo                60         800                   A   \n",
       "7         x hispanica               260        1700                 NaN   \n",
       "...               ...               ...         ...                 ...   \n",
       "198874         cerris                20         500                 NaN   \n",
       "198875         cerris                20         500                 NaN   \n",
       "198876         cerris                20         500                 NaN   \n",
       "198877         cerris                20         500                 NaN   \n",
       "198878         cerris                20         500                 NaN   \n",
       "\n",
       "        geo_point_2d_a  geo_point_2d_b  \n",
       "0            48.857620        2.320962  \n",
       "1            48.857656        2.321031  \n",
       "2            48.857705        2.321061  \n",
       "3            48.857722        2.321006  \n",
       "7            48.876722        2.280222  \n",
       "...                ...             ...  \n",
       "198874       48.848074        2.409116  \n",
       "198875       48.848226        2.409147  \n",
       "198876       48.848379        2.409179  \n",
       "198877       48.848533        2.409209  \n",
       "198878       48.848843        2.409275  \n",
       "\n",
       "[159899 rows x 10 columns]"
      ]
     },
     "execution_count": 52,
     "metadata": {},
     "output_type": "execute_result"
    }
   ],
   "source": [
    "new_df = df.rename(columns={\"hauteur_m\":\"hauteur_cm\"})\n",
    "\n",
    "new_df"
   ]
  },
  {
   "cell_type": "code",
   "execution_count": 53,
   "id": "23ac37f2",
   "metadata": {},
   "outputs": [
    {
     "name": "stdout",
     "output_type": "stream",
     "text": [
      "Numéro d'arbres:  129996\n"
     ]
    }
   ],
   "source": [
    "df.dropna(subset=[\"stade_developpement\"], inplace = True)\n",
    "print(\"Numéro d'arbres: \",len(df))\n"
   ]
  },
  {
   "cell_type": "code",
   "execution_count": 54,
   "id": "a127e707",
   "metadata": {},
   "outputs": [
    {
     "data": {
      "text/plain": [
       "<AxesSubplot:>"
      ]
     },
     "execution_count": 54,
     "metadata": {},
     "output_type": "execute_result"
    },
    {
     "data": {
      "image/png": "[encoded data removed]",
      "text/plain": [
       "<Figure size 432x288 with 1 Axes>"
      ]
     },
     "metadata": {
      "needs_background": "light"
     },
     "output_type": "display_data"
    }
   ],
   "source": [
    "new_df.boxplot(column=['circonference_cm'])\n",
    "\n"
   ]
  },
  {
   "cell_type": "code",
   "execution_count": 55,
   "id": "5e034a3c",
   "metadata": {},
   "outputs": [
    {
     "data": {
      "text/plain": [
       "<AxesSubplot:>"
      ]
     },
     "execution_count": 55,
     "metadata": {},
     "output_type": "execute_result"
    },
    {
     "data": {
      "image/png": "[encoded data removed]",
      "text/plain": [
       "<Figure size 432x288 with 1 Axes>"
      ]
     },
     "metadata": {
      "needs_background": "light"
     },
     "output_type": "display_data"
    }
   ],
   "source": [
    "new_df.boxplot(column=['hauteur_cm'])\n"
   ]
  },
  {
   "cell_type": "code",
   "execution_count": 56,
   "id": "3c3e5ce5",
   "metadata": {},
   "outputs": [
    {
     "data": {
      "text/plain": [
       "<AxesSubplot:>"
      ]
     },
     "execution_count": 56,
     "metadata": {},
     "output_type": "execute_result"
    },
    {
     "data": {
      "image/png": "[encoded data removed]",
      "text/plain": [
       "<Figure size 1800x720 with 3 Axes>"
      ]
     },
     "metadata": {
      "needs_background": "light"
     },
     "output_type": "display_data"
    }
   ],
   "source": [
    "import missingno as msno\n",
    "\n",
    "msno.bar(new_df)"
   ]
  },
  {
   "cell_type": "code",
   "execution_count": null,
   "id": "1657316c",
   "metadata": {},
   "outputs": [],
   "source": [
    "\n"
   ]
  },
  {
   "cell_type": "code",
   "execution_count": 57,
   "id": "a8acf4c5",
   "metadata": {},
   "outputs": [],
   "source": [
    "import seaborn as sns\n"
   ]
  },
  {
   "cell_type": "code",
   "execution_count": 58,
   "id": "10c6ca09",
   "metadata": {},
   "outputs": [],
   "source": [
    "n_tree = [1 for i in range(len(new_df))]\n",
    "new_df[\"n_tree\"] = n_tree\n",
    "\n"
   ]
  },
  {
   "cell_type": "code",
   "execution_count": 59,
   "id": "c44a13a1",
   "metadata": {},
   "outputs": [],
   "source": [
    "new_df[\"arrondissement\"].replace({\"PARIS 10E ARRDT\":\"10E ARR\",\"PARIS 11E ARRDT\":\"11E ARR\",\"PARIS 12E ARRDT\":\"12E ARR\",\n",
    "                                  \"PARIS 13E ARRDT\":\"13E ARR\",\"PARIS 14E ARRDT\":\"14E ARR\",\"PARIS 15E ARRDT\":\"15E ARR\",\n",
    "                                  \"PARIS 16E ARRDT\":\"16E ARR\",\"PARIS 17E ARRDT\":\"17E ARR\",\"PARIS 18E ARRDT\":\"18E ARR\",\n",
    "                                  \"PARIS 19E ARRDT\":\"19E ARR\",\"PARIS 1ER ARRDT\":\"1ER ARR\",\"PARIS 20E ARRDT\":\"20E ARR\",\n",
    "                                  \"PARIS 2E ARRDT\":\"2E ARR\",\"PARIS 3E ARRDT\":\"3E ARR\",\"PARIS 4E ARRDT\":\"4E ARR\",\n",
    "                                  \"PARIS 5E ARRDT\":\"5E ARR\",\"PARIS 6E ARRDT\":\"6E ARR\",\"PARIS 7E ARRDT\":\"7E ARR\",\n",
    "                                  \"PARIS 8E ARRDT\":\"8E ARR\",\"PARIS 9E ARRDT\":\"9E ARR\",\"SEINE-SAINT-DENIS\":\"S.S.DENIS\",\n",
    "                                  \"VAL-DE-MARNE\":\"V.MARNE\",\"BOIS DE BOULOGNE\":\"B. BOULOGNE\",\"BOIS DE VINCENNES\":\"B.VINCENNES\",\n",
    "                                  \"HAUTS-DE-SEINE\":\"H.SEINE\"}, inplace = True)\n"
   ]
  },
  {
   "cell_type": "code",
   "execution_count": 60,
   "id": "be1242b5",
   "metadata": {},
   "outputs": [],
   "source": [
    "new_df_2 = new_df.groupby(\"arrondissement\").sum()\n",
    "new_df_2.drop(\"circonference_cm\",axis =1, inplace = True)\n",
    "new_df_2.drop(\"hauteur_cm\",axis =1, inplace = True)\n",
    "new_df_2.drop(\"geo_point_2d_a\",axis =1, inplace = True)\n",
    "new_df_2.drop(\"geo_point_2d_b\",axis =1, inplace = True)\n",
    "\n"
   ]
  },
  {
   "cell_type": "code",
   "execution_count": 61,
   "id": "111800b4",
   "metadata": {},
   "outputs": [
    {
     "data": {
      "text/plain": [
       "Text(0.5, 1.0, \" Nombre d'arbres par arroundissement\")"
      ]
     },
     "execution_count": 61,
     "metadata": {},
     "output_type": "execute_result"
    },
    {
     "data": {
      "image/png": "[encoded data removed]",
      "text/plain": [
       "<Figure size 432x288 with 1 Axes>"
      ]
     },
     "metadata": {
      "needs_background": "light"
     },
     "output_type": "display_data"
    }
   ],
   "source": [
    "for_sns = pd.melt(new_df_2.reset_index(),id_vars=['arrondissement'],value_vars=new_df_2.columns)\n",
    "p = sns.barplot(y=\"arrondissement\",x=\"value\", data = for_sns,hue = \"variable\")\n",
    "p.set_title(\" Nombre d'arbres par arroundissement\")"
   ]
  },
  {
   "cell_type": "code",
   "execution_count": 62,
   "id": "e37e9bc4",
   "metadata": {},
   "outputs": [],
   "source": [
    "selected_col = new_df[[\"arrondissement\",\"circonference_cm\",\"hauteur_cm\"]]\n",
    "new_df_3 = selected_col.copy()"
   ]
  },
  {
   "cell_type": "code",
   "execution_count": 63,
   "id": "dd0e76ac",
   "metadata": {},
   "outputs": [],
   "source": [
    "ndf_3 = new_df_3.groupby(\"arrondissement\").mean()\n"
   ]
  },
  {
   "cell_type": "code",
   "execution_count": 64,
   "id": "655f0d38",
   "metadata": {},
   "outputs": [],
   "source": [
    "for_sns_2 = ndf_3.reset_index()\n"
   ]
  },
  {
   "cell_type": "code",
   "execution_count": 65,
   "id": "8b2af0d2",
   "metadata": {},
   "outputs": [
    {
     "data": {
      "text/plain": [
       "Text(0.5, 1.0, 'hauteur_cm et circonference_cm moyenne par arrondissement')"
      ]
     },
     "execution_count": 65,
     "metadata": {},
     "output_type": "execute_result"
    },
    {
     "data": {
      "image/png": "[encoded data removed]",
      "text/plain": [
       "<Figure size 432x288 with 1 Axes>"
      ]
     },
     "metadata": {
      "needs_background": "light"
     },
     "output_type": "display_data"
    }
   ],
   "source": [
    "g = sns.scatterplot(data = for_sns_2,x = \"circonference_cm\",y = \"hauteur_cm\",hue = \"arrondissement\")\n",
    "g.set_title(\"hauteur_cm et circonference_cm moyenne par arrondissement\")"
   ]
  },
  {
   "cell_type": "code",
   "execution_count": 66,
   "id": "0e0dd78a",
   "metadata": {},
   "outputs": [],
   "source": [
    "selected_col_2 = new_df[[\"stade_developpement\",\"hauteur_cm\",\"circonference_cm\"]]\n",
    "new_df_4 = selected_col_2.copy()"
   ]
  },
  {
   "cell_type": "code",
   "execution_count": 67,
   "id": "9e312002",
   "metadata": {},
   "outputs": [],
   "source": [
    "ndf_4 = new_df_4.groupby(\"stade_developpement\").mean()\n"
   ]
  },
  {
   "cell_type": "code",
   "execution_count": 68,
   "id": "e2585953",
   "metadata": {},
   "outputs": [
    {
     "data": {
      "text/plain": [
       "Text(0.5, 1.0, 'Hauteur_cm et circonference_cm moyenne par stade de developpement')"
      ]
     },
     "execution_count": 68,
     "metadata": {},
     "output_type": "execute_result"
    },
    {
     "data": {
      "image/png": "[encoded data removed]",
      "text/plain": [
       "<Figure size 432x288 with 1 Axes>"
      ]
     },
     "metadata": {
      "needs_background": "light"
     },
     "output_type": "display_data"
    }
   ],
   "source": [
    "for_sns_3 = ndf_4.reset_index()\n",
    "import matplotlib.pyplot as plt\n",
    "fig,ax = plt.subplots()\n",
    "ax = sns.lineplot(data = for_sns_3, x= \"stade_developpement\",y=\"circonference_cm\")\n",
    "ax1 = sns.lineplot(data = for_sns_3,x = \"stade_developpement\", y = \"hauteur_cm\")\n",
    "ax.set_title(\"Hauteur_cm et circonference_cm moyenne par stade de developpement\")"
   ]
  },
  {
   "cell_type": "code",
   "execution_count": 69,
   "id": "afe77058",
   "metadata": {},
   "outputs": [
    {
     "data": {
      "text/plain": [
       "Text(0.5, 1.0, \"Nombre d'arbres par arrondissement et stade de developpement\")"
      ]
     },
     "execution_count": 69,
     "metadata": {},
     "output_type": "execute_result"
    },
    {
     "data": {
      "image/png": "[encoded data removed]",
      "text/plain": [
       "<Figure size 432x288 with 1 Axes>"
      ]
     },
     "metadata": {
      "needs_background": "light"
     },
     "output_type": "display_data"
    }
   ],
   "source": [
    "selected_col_3 = new_df[[\"stade_developpement\",\"n_tree\",\"arrondissement\"]]\n",
    "new_df_5 = selected_col_3.copy()\n",
    "ndf_5 = new_df_5.groupby([\"arrondissement\",\"stade_developpement\"]).sum().reset_index()\n",
    "graph = sns.histplot(data = ndf_5,x= \"arrondissement\", weights= \"n_tree\", hue = \"stade_developpement\", multiple=\"stack\")\n",
    "graph.set_title(\"Nombre d'arbres par arrondissement et stade de developpement\")\n"
   ]
  },
  {
   "cell_type": "code",
   "execution_count": 70,
   "id": "011f2b5f",
   "metadata": {},
   "outputs": [
    {
     "data": {
      "application/vnd.plotly.v1+json": {
       "config": {
        "plotlyServerURL": "https://plot.ly"
       },
       "data": [
        {
         "branchvalues": "total",
         "domain": {
          "x": [
           0,
           1
          ],
          "y": [
           0,
           1
          ]
         },
         "hovertemplate": "labels=%{label}<br>n_tree=%{value}<br>parent=%{parent}<br>id=%{id}<extra></extra>",
         "ids": [
          "Alignement/10E ARR",
          "DASCO/10E ARR",
          "DFPE/10E ARR",
          "DJS/10E ARR",
          "Jardin/10E ARR",
          "Alignement/11E ARR",
          "DASCO/11E ARR",
          "DFPE/11E ARR",
          "DJS/11E ARR",
          "Jardin/11E ARR",
          "Alignement/12E ARR",
          "CIMETIERE/12E ARR",
          "DAC/12E ARR",
          "DASCO/12E ARR",
          "DASES/12E ARR",
          "DFPE/12E ARR",
          "DJS/12E ARR",
          "Jardin/12E ARR",
          "PERIPHERIQUE/12E ARR",
          "Alignement/13E ARR",
          "DAC/13E ARR",
          "DASCO/13E ARR",
          "DFPE/13E ARR",
          "DJS/13E ARR",
          "Jardin/13E ARR",
          "PERIPHERIQUE/13E ARR",
          "Alignement/14E ARR",
          "CIMETIERE/14E ARR",
          "DASCO/14E ARR",
          "DFPE/14E ARR",
          "DJS/14E ARR",
          "Jardin/14E ARR",
          "PERIPHERIQUE/14E ARR",
          "Alignement/15E ARR",
          "CIMETIERE/15E ARR",
          "DASCO/15E ARR",
          "DASES/15E ARR",
          "DFPE/15E ARR",
          "DJS/15E ARR",
          "Jardin/15E ARR",
          "PERIPHERIQUE/15E ARR",
          "Alignement/16E ARR",
          "CIMETIERE/16E ARR",
          "DASCO/16E ARR",
          "DFPE/16E ARR",
          "DJS/16E ARR",
          "Jardin/16E ARR",
          "PERIPHERIQUE/16E ARR",
          "Alignement/17E ARR",
          "CIMETIERE/17E ARR",
          "DASCO/17E ARR",
          "DFPE/17E ARR",
          "DJS/17E ARR",
          "Jardin/17E ARR",
          "PERIPHERIQUE/17E ARR",
          "Alignement/18E ARR",
          "CIMETIERE/18E ARR",
          "DAC/18E ARR",
          "DASCO/18E ARR",
          "DFPE/18E ARR",
          "DJS/18E ARR",
          "Jardin/18E ARR",
          "PERIPHERIQUE/18E ARR",
          "Alignement/19E ARR",
          "DASCO/19E ARR",
          "DFPE/19E ARR",
          "DJS/19E ARR",
          "Jardin/19E ARR",
          "PERIPHERIQUE/19E ARR",
          "Alignement/1ER ARR",
          "DASCO/1ER ARR",
          "Jardin/1ER ARR",
          "Alignement/20E ARR",
          "CIMETIERE/20E ARR",
          "DAC/20E ARR",
          "DASCO/20E ARR",
          "DFPE/20E ARR",
          "DJS/20E ARR",
          "Jardin/20E ARR",
          "PERIPHERIQUE/20E ARR",
          "Alignement/2E ARR",
          "DASCO/2E ARR",
          "DFPE/2E ARR",
          "Jardin/2E ARR",
          "Alignement/3E ARR",
          "DASCO/3E ARR",
          "DFPE/3E ARR",
          "Jardin/3E ARR",
          "Alignement/4E ARR",
          "DASCO/4E ARR",
          "DFPE/4E ARR",
          "DJS/4E ARR",
          "Jardin/4E ARR",
          "Alignement/5E ARR",
          "DASCO/5E ARR",
          "DFPE/5E ARR",
          "DJS/5E ARR",
          "Jardin/5E ARR",
          "Alignement/6E ARR",
          "DASCO/6E ARR",
          "DFPE/6E ARR",
          "Jardin/6E ARR",
          "Alignement/7E ARR",
          "DASCO/7E ARR",
          "DFPE/7E ARR",
          "DJS/7E ARR",
          "Jardin/7E ARR",
          "Alignement/8E ARR",
          "DASCO/8E ARR",
          "DFPE/8E ARR",
          "Jardin/8E ARR",
          "Alignement/9E ARR",
          "DAC/9E ARR",
          "DASCO/9E ARR",
          "DFPE/9E ARR",
          "Jardin/9E ARR",
          "Alignement/B. BOULOGNE",
          "DJS/B. BOULOGNE",
          "Alignement/B.VINCENNES",
          "Jardin/B.VINCENNES",
          "CIMETIERE/H.SEINE",
          "CIMETIERE/S.S.DENIS",
          "CIMETIERE/V.MARNE",
          "DJS/V.MARNE",
          "Alignement",
          "CIMETIERE",
          "DAC",
          "DASCO",
          "DASES",
          "DFPE",
          "DJS",
          "Jardin",
          "PERIPHERIQUE"
         ],
         "labels": [
          "10E ARR",
          "10E ARR",
          "10E ARR",
          "10E ARR",
          "10E ARR",
          "11E ARR",
          "11E ARR",
          "11E ARR",
          "11E ARR",
          "11E ARR",
          "12E ARR",
          "12E ARR",
          "12E ARR",
          "12E ARR",
          "12E ARR",
          "12E ARR",
          "12E ARR",
          "12E ARR",
          "12E ARR",
          "13E ARR",
          "13E ARR",
          "13E ARR",
          "13E ARR",
          "13E ARR",
          "13E ARR",
          "13E ARR",
          "14E ARR",
          "14E ARR",
          "14E ARR",
          "14E ARR",
          "14E ARR",
          "14E ARR",
          "14E ARR",
          "15E ARR",
          "15E ARR",
          "15E ARR",
          "15E ARR",
          "15E ARR",
          "15E ARR",
          "15E ARR",
          "15E ARR",
          "16E ARR",
          "16E ARR",
          "16E ARR",
          "16E ARR",
          "16E ARR",
          "16E ARR",
          "16E ARR",
          "17E ARR",
          "17E ARR",
          "17E ARR",
          "17E ARR",
          "17E ARR",
          "17E ARR",
          "17E ARR",
          "18E ARR",
          "18E ARR",
          "18E ARR",
          "18E ARR",
          "18E ARR",
          "18E ARR",
          "18E ARR",
          "18E ARR",
          "19E ARR",
          "19E ARR",
          "19E ARR",
          "19E ARR",
          "19E ARR",
          "19E ARR",
          "1ER ARR",
          "1ER ARR",
          "1ER ARR",
          "20E ARR",
          "20E ARR",
          "20E ARR",
          "20E ARR",
          "20E ARR",
          "20E ARR",
          "20E ARR",
          "20E ARR",
          "2E ARR",
          "2E ARR",
          "2E ARR",
          "2E ARR",
          "3E ARR",
          "3E ARR",
          "3E ARR",
          "3E ARR",
          "4E ARR",
          "4E ARR",
          "4E ARR",
          "4E ARR",
          "4E ARR",
          "5E ARR",
          "5E ARR",
          "5E ARR",
          "5E ARR",
          "5E ARR",
          "6E ARR",
          "6E ARR",
          "6E ARR",
          "6E ARR",
          "7E ARR",
          "7E ARR",
          "7E ARR",
          "7E ARR",
          "7E ARR",
          "8E ARR",
          "8E ARR",
          "8E ARR",
          "8E ARR",
          "9E ARR",
          "9E ARR",
          "9E ARR",
          "9E ARR",
          "9E ARR",
          "B. BOULOGNE",
          "B. BOULOGNE",
          "B.VINCENNES",
          "B.VINCENNES",
          "H.SEINE",
          "S.S.DENIS",
          "V.MARNE",
          "V.MARNE",
          "Alignement",
          "CIMETIERE",
          "DAC",
          "DASCO",
          "DASES",
          "DFPE",
          "DJS",
          "Jardin",
          "PERIPHERIQUE"
         ],
         "name": "",
         "parents": [
          "Alignement",
          "DASCO",
          "DFPE",
          "DJS",
          "Jardin",
          "Alignement",
          "DASCO",
          "DFPE",
          "DJS",
          "Jardin",
          "Alignement",
          "CIMETIERE",
          "DAC",
          "DASCO",
          "DASES",
          "DFPE",
          "DJS",
          "Jardin",
          "PERIPHERIQUE",
          "Alignement",
          "DAC",
          "DASCO",
          "DFPE",
          "DJS",
          "Jardin",
          "PERIPHERIQUE",
          "Alignement",
          "CIMETIERE",
          "DASCO",
          "DFPE",
          "DJS",
          "Jardin",
          "PERIPHERIQUE",
          "Alignement",
          "CIMETIERE",
          "DASCO",
          "DASES",
          "DFPE",
          "DJS",
          "Jardin",
          "PERIPHERIQUE",
          "Alignement",
          "CIMETIERE",
          "DASCO",
          "DFPE",
          "DJS",
          "Jardin",
          "PERIPHERIQUE",
          "Alignement",
          "CIMETIERE",
          "DASCO",
          "DFPE",
          "DJS",
          "Jardin",
          "PERIPHERIQUE",
          "Alignement",
          "CIMETIERE",
          "DAC",
          "DASCO",
          "DFPE",
          "DJS",
          "Jardin",
          "PERIPHERIQUE",
          "Alignement",
          "DASCO",
          "DFPE",
          "DJS",
          "Jardin",
          "PERIPHERIQUE",
          "Alignement",
          "DASCO",
          "Jardin",
          "Alignement",
          "CIMETIERE",
          "DAC",
          "DASCO",
          "DFPE",
          "DJS",
          "Jardin",
          "PERIPHERIQUE",
          "Alignement",
          "DASCO",
          "DFPE",
          "Jardin",
          "Alignement",
          "DASCO",
          "DFPE",
          "Jardin",
          "Alignement",
          "DASCO",
          "DFPE",
          "DJS",
          "Jardin",
          "Alignement",
          "DASCO",
          "DFPE",
          "DJS",
          "Jardin",
          "Alignement",
          "DASCO",
          "DFPE",
          "Jardin",
          "Alignement",
          "DASCO",
          "DFPE",
          "DJS",
          "Jardin",
          "Alignement",
          "DASCO",
          "DFPE",
          "Jardin",
          "Alignement",
          "DAC",
          "DASCO",
          "DFPE",
          "Jardin",
          "Alignement",
          "DJS",
          "Alignement",
          "Jardin",
          "CIMETIERE",
          "CIMETIERE",
          "CIMETIERE",
          "DJS",
          "",
          "",
          "",
          "",
          "",
          "",
          "",
          "",
          ""
         ],
         "type": "treemap",
         "values": [
          2582,
          208,
          48,
          98,
          168,
          4138,
          336,
          95,
          82,
          828,
          7666,
          7,
          7,
          470,
          3,
          97,
          466,
          2818,
          534,
          8618,
          8,
          865,
          290,
          734,
          2702,
          347,
          7036,
          1228,
          303,
          80,
          216,
          2345,
          123,
          8224,
          18,
          657,
          1,
          115,
          316,
          1852,
          235,
          10731,
          196,
          337,
          28,
          327,
          1862,
          1505,
          5615,
          769,
          405,
          90,
          181,
          1319,
          272,
          4838,
          826,
          3,
          653,
          106,
          411,
          739,
          837,
          6826,
          674,
          143,
          213,
          1945,
          476,
          1069,
          21,
          243,
          5352,
          3932,
          1,
          821,
          93,
          567,
          1305,
          826,
          468,
          41,
          1,
          24,
          852,
          61,
          14,
          273,
          1931,
          113,
          14,
          8,
          618,
          1560,
          171,
          26,
          6,
          493,
          1358,
          42,
          6,
          333,
          5910,
          61,
          3,
          18,
          2417,
          5865,
          35,
          5,
          1120,
          917,
          2,
          93,
          15,
          71,
          3277,
          1,
          4707,
          3379,
          894,
          5344,
          3801,
          29,
          99540,
          17015,
          21,
          6367,
          4,
          1269,
          3673,
          26854,
          5155
         ]
        }
       ],
       "layout": {
        "legend": {
         "tracegroupgap": 0
        },
        "margin": {
         "t": 60
        },
        "template": {
         "data": {
          "bar": [
           {
            "error_x": {
             "color": "#2a3f5f"
            },
            "error_y": {
             "color": "#2a3f5f"
            },
            "marker": {
             "line": {
              "color": "#E5ECF6",
              "width": 0.5
             },
             "pattern": {
              "fillmode": "overlay",
              "size": 10,
              "solidity": 0.2
             }
            },
            "type": "bar"
           }
          ],
          "barpolar": [
           {
            "marker": {
             "line": {
              "color": "#E5ECF6",
              "width": 0.5
             },
             "pattern": {
              "fillmode": "overlay",
              "size": 10,
              "solidity": 0.2
             }
            },
            "type": "barpolar"
           }
          ],
          "carpet": [
           {
            "aaxis": {
             "endlinecolor": "#2a3f5f",
             "gridcolor": "white",
             "linecolor": "white",
             "minorgridcolor": "white",
             "startlinecolor": "#2a3f5f"
            },
            "baxis": {
             "endlinecolor": "#2a3f5f",
             "gridcolor": "white",
             "linecolor": "white",
             "minorgridcolor": "white",
             "startlinecolor": "#2a3f5f"
            },
            "type": "carpet"
           }
          ],
          "choropleth": [
           {
            "colorbar": {
             "outlinewidth": 0,
             "ticks": ""
            },
            "type": "choropleth"
           }
          ],
          "contour": [
           {
            "colorbar": {
             "outlinewidth": 0,
             "ticks": ""
            },
            "colorscale": [
             [
              0,
              "#0d0887"
             ],
             [
              0.1111111111111111,
              "#46039f"
             ],
             [
              0.2222222222222222,
              "#7201a8"
             ],
             [
              0.3333333333333333,
              "#9c179e"
             ],
             [
              0.4444444444444444,
              "#bd3786"
             ],
             [
              0.5555555555555556,
              "#d8576b"
             ],
             [
              0.6666666666666666,
              "#ed7953"
             ],
             [
              0.7777777777777778,
              "#fb9f3a"
             ],
             [
              0.8888888888888888,
              "#fdca26"
             ],
             [
              1,
              "#f0f921"
             ]
            ],
            "type": "contour"
           }
          ],
          "contourcarpet": [
           {
            "colorbar": {
             "outlinewidth": 0,
             "ticks": ""
            },
            "type": "contourcarpet"
           }
          ],
          "heatmap": [
           {
            "colorbar": {
             "outlinewidth": 0,
             "ticks": ""
            },
            "colorscale": [
             [
              0,
              "#0d0887"
             ],
             [
              0.1111111111111111,
              "#46039f"
             ],
             [
              0.2222222222222222,
              "#7201a8"
             ],
             [
              0.3333333333333333,
              "#9c179e"
             ],
             [
              0.4444444444444444,
              "#bd3786"
             ],
             [
              0.5555555555555556,
              "#d8576b"
             ],
             [
              0.6666666666666666,
              "#ed7953"
             ],
             [
              0.7777777777777778,
              "#fb9f3a"
             ],
             [
              0.8888888888888888,
              "#fdca26"
             ],
             [
              1,
              "#f0f921"
             ]
            ],
            "type": "heatmap"
           }
          ],
          "heatmapgl": [
           {
            "colorbar": {
             "outlinewidth": 0,
             "ticks": ""
            },
            "colorscale": [
             [
              0,
              "#0d0887"
             ],
             [
              0.1111111111111111,
              "#46039f"
             ],
             [
              0.2222222222222222,
              "#7201a8"
             ],
             [
              0.3333333333333333,
              "#9c179e"
             ],
             [
              0.4444444444444444,
              "#bd3786"
             ],
             [
              0.5555555555555556,
              "#d8576b"
             ],
             [
              0.6666666666666666,
              "#ed7953"
             ],
             [
              0.7777777777777778,
              "#fb9f3a"
             ],
             [
              0.8888888888888888,
              "#fdca26"
             ],
             [
              1,
              "#f0f921"
             ]
            ],
            "type": "heatmapgl"
           }
          ],
          "histogram": [
           {
            "marker": {
             "pattern": {
              "fillmode": "overlay",
              "size": 10,
              "solidity": 0.2
             }
            },
            "type": "histogram"
           }
          ],
          "histogram2d": [
           {
            "colorbar": {
             "outlinewidth": 0,
             "ticks": ""
            },
            "colorscale": [
             [
              0,
              "#0d0887"
             ],
             [
              0.1111111111111111,
              "#46039f"
             ],
             [
              0.2222222222222222,
              "#7201a8"
             ],
             [
              0.3333333333333333,
              "#9c179e"
             ],
             [
              0.4444444444444444,
              "#bd3786"
             ],
             [
              0.5555555555555556,
              "#d8576b"
             ],
             [
              0.6666666666666666,
              "#ed7953"
             ],
             [
              0.7777777777777778,
              "#fb9f3a"
             ],
             [
              0.8888888888888888,
              "#fdca26"
             ],
             [
              1,
              "#f0f921"
             ]
            ],
            "type": "histogram2d"
           }
          ],
          "histogram2dcontour": [
           {
            "colorbar": {
             "outlinewidth": 0,
             "ticks": ""
            },
            "colorscale": [
             [
              0,
              "#0d0887"
             ],
             [
              0.1111111111111111,
              "#46039f"
             ],
             [
              0.2222222222222222,
              "#7201a8"
             ],
             [
              0.3333333333333333,
              "#9c179e"
             ],
             [
              0.4444444444444444,
              "#bd3786"
             ],
             [
              0.5555555555555556,
              "#d8576b"
             ],
             [
              0.6666666666666666,
              "#ed7953"
             ],
             [
              0.7777777777777778,
              "#fb9f3a"
             ],
             [
              0.8888888888888888,
              "#fdca26"
             ],
             [
              1,
              "#f0f921"
             ]
            ],
            "type": "histogram2dcontour"
           }
          ],
          "mesh3d": [
           {
            "colorbar": {
             "outlinewidth": 0,
             "ticks": ""
            },
            "type": "mesh3d"
           }
          ],
          "parcoords": [
           {
            "line": {
             "colorbar": {
              "outlinewidth": 0,
              "ticks": ""
             }
            },
            "type": "parcoords"
           }
          ],
          "pie": [
           {
            "automargin": true,
            "type": "pie"
           }
          ],
          "scatter": [
           {
            "marker": {
             "colorbar": {
              "outlinewidth": 0,
              "ticks": ""
             }
            },
            "type": "scatter"
           }
          ],
          "scatter3d": [
           {
            "line": {
             "colorbar": {
              "outlinewidth": 0,
              "ticks": ""
             }
            },
            "marker": {
             "colorbar": {
              "outlinewidth": 0,
              "ticks": ""
             }
            },
            "type": "scatter3d"
           }
          ],
          "scattercarpet": [
           {
            "marker": {
             "colorbar": {
              "outlinewidth": 0,
              "ticks": ""
             }
            },
            "type": "scattercarpet"
           }
          ],
          "scattergeo": [
           {
            "marker": {
             "colorbar": {
              "outlinewidth": 0,
              "ticks": ""
             }
            },
            "type": "scattergeo"
           }
          ],
          "scattergl": [
           {
            "marker": {
             "colorbar": {
              "outlinewidth": 0,
              "ticks": ""
             }
            },
            "type": "scattergl"
           }
          ],
          "scattermapbox": [
           {
            "marker": {
             "colorbar": {
              "outlinewidth": 0,
              "ticks": ""
             }
            },
            "type": "scattermapbox"
           }
          ],
          "scatterpolar": [
           {
            "marker": {
             "colorbar": {
              "outlinewidth": 0,
              "ticks": ""
             }
            },
            "type": "scatterpolar"
           }
          ],
          "scatterpolargl": [
           {
            "marker": {
             "colorbar": {
              "outlinewidth": 0,
              "ticks": ""
             }
            },
            "type": "scatterpolargl"
           }
          ],
          "scatterternary": [
           {
            "marker": {
             "colorbar": {
              "outlinewidth": 0,
              "ticks": ""
             }
            },
            "type": "scatterternary"
           }
          ],
          "surface": [
           {
            "colorbar": {
             "outlinewidth": 0,
             "ticks": ""
            },
            "colorscale": [
             [
              0,
              "#0d0887"
             ],
             [
              0.1111111111111111,
              "#46039f"
             ],
             [
              0.2222222222222222,
              "#7201a8"
             ],
             [
              0.3333333333333333,
              "#9c179e"
             ],
             [
              0.4444444444444444,
              "#bd3786"
             ],
             [
              0.5555555555555556,
              "#d8576b"
             ],
             [
              0.6666666666666666,
              "#ed7953"
             ],
             [
              0.7777777777777778,
              "#fb9f3a"
             ],
             [
              0.8888888888888888,
              "#fdca26"
             ],
             [
              1,
              "#f0f921"
             ]
            ],
            "type": "surface"
           }
          ],
          "table": [
           {
            "cells": {
             "fill": {
              "color": "#EBF0F8"
             },
             "line": {
              "color": "white"
             }
            },
            "header": {
             "fill": {
              "color": "#C8D4E3"
             },
             "line": {
              "color": "white"
             }
            },
            "type": "table"
           }
          ]
         },
         "layout": {
          "annotationdefaults": {
           "arrowcolor": "#2a3f5f",
           "arrowhead": 0,
           "arrowwidth": 1
          },
          "autotypenumbers": "strict",
          "coloraxis": {
           "colorbar": {
            "outlinewidth": 0,
            "ticks": ""
           }
          },
          "colorscale": {
           "diverging": [
            [
             0,
             "#8e0152"
            ],
            [
             0.1,
             "#c51b7d"
            ],
            [
             0.2,
             "#de77ae"
            ],
            [
             0.3,
             "#f1b6da"
            ],
            [
             0.4,
             "#fde0ef"
            ],
            [
             0.5,
             "#f7f7f7"
            ],
            [
             0.6,
             "#e6f5d0"
            ],
            [
             0.7,
             "#b8e186"
            ],
            [
             0.8,
             "#7fbc41"
            ],
            [
             0.9,
             "#4d9221"
            ],
            [
             1,
             "#276419"
            ]
           ],
           "sequential": [
            [
             0,
             "#0d0887"
            ],
            [
             0.1111111111111111,
             "#46039f"
            ],
            [
             0.2222222222222222,
             "#7201a8"
            ],
            [
             0.3333333333333333,
             "#9c179e"
            ],
            [
             0.4444444444444444,
             "#bd3786"
            ],
            [
             0.5555555555555556,
             "#d8576b"
            ],
            [
             0.6666666666666666,
             "#ed7953"
            ],
            [
             0.7777777777777778,
             "#fb9f3a"
            ],
            [
             0.8888888888888888,
             "#fdca26"
            ],
            [
             1,
             "#f0f921"
            ]
           ],
           "sequentialminus": [
            [
             0,
             "#0d0887"
            ],
            [
             0.1111111111111111,
             "#46039f"
            ],
            [
             0.2222222222222222,
             "#7201a8"
            ],
            [
             0.3333333333333333,
             "#9c179e"
            ],
            [
             0.4444444444444444,
             "#bd3786"
            ],
            [
             0.5555555555555556,
             "#d8576b"
            ],
            [
             0.6666666666666666,
             "#ed7953"
            ],
            [
             0.7777777777777778,
             "#fb9f3a"
            ],
            [
             0.8888888888888888,
             "#fdca26"
            ],
            [
             1,
             "#f0f921"
            ]
           ]
          },
          "colorway": [
           "#636efa",
           "#EF553B",
           "#00cc96",
           "#ab63fa",
           "#FFA15A",
           "#19d3f3",
           "#FF6692",
           "#B6E880",
           "#FF97FF",
           "#FECB52"
          ],
          "font": {
           "color": "#2a3f5f"
          },
          "geo": {
           "bgcolor": "white",
           "lakecolor": "white",
           "landcolor": "#E5ECF6",
           "showlakes": true,
           "showland": true,
           "subunitcolor": "white"
          },
          "hoverlabel": {
           "align": "left"
          },
          "hovermode": "closest",
          "mapbox": {
           "style": "light"
          },
          "paper_bgcolor": "white",
          "plot_bgcolor": "#E5ECF6",
          "polar": {
           "angularaxis": {
            "gridcolor": "white",
            "linecolor": "white",
            "ticks": ""
           },
           "bgcolor": "#E5ECF6",
           "radialaxis": {
            "gridcolor": "white",
            "linecolor": "white",
            "ticks": ""
           }
          },
          "scene": {
           "xaxis": {
            "backgroundcolor": "#E5ECF6",
            "gridcolor": "white",
            "gridwidth": 2,
            "linecolor": "white",
            "showbackground": true,
            "ticks": "",
            "zerolinecolor": "white"
           },
           "yaxis": {
            "backgroundcolor": "#E5ECF6",
            "gridcolor": "white",
            "gridwidth": 2,
            "linecolor": "white",
            "showbackground": true,
            "ticks": "",
            "zerolinecolor": "white"
           },
           "zaxis": {
            "backgroundcolor": "#E5ECF6",
            "gridcolor": "white",
            "gridwidth": 2,
            "linecolor": "white",
            "showbackground": true,
            "ticks": "",
            "zerolinecolor": "white"
           }
          },
          "shapedefaults": {
           "line": {
            "color": "#2a3f5f"
           }
          },
          "ternary": {
           "aaxis": {
            "gridcolor": "white",
            "linecolor": "white",
            "ticks": ""
           },
           "baxis": {
            "gridcolor": "white",
            "linecolor": "white",
            "ticks": ""
           },
           "bgcolor": "#E5ECF6",
           "caxis": {
            "gridcolor": "white",
            "linecolor": "white",
            "ticks": ""
           }
          },
          "title": {
           "x": 0.05
          },
          "xaxis": {
           "automargin": true,
           "gridcolor": "white",
           "linecolor": "white",
           "ticks": "",
           "title": {
            "standoff": 15
           },
           "zerolinecolor": "white",
           "zerolinewidth": 2
          },
          "yaxis": {
           "automargin": true,
           "gridcolor": "white",
           "linecolor": "white",
           "ticks": "",
           "title": {
            "standoff": 15
           },
           "zerolinecolor": "white",
           "zerolinewidth": 2
          }
         }
        }
       }
      },
      "text/html": [
       "<div>                            <div id=\"19fc3d84-4e24-4d2e-88b3-0b7503b509c0\" class=\"plotly-graph-div\" style=\"height:525px; width:100%;\"></div>            <script type=\"text/javascript\">                require([\"plotly\"], function(Plotly) {                    window.PLOTLYENV=window.PLOTLYENV || {};                                    if (document.getElementById(\"19fc3d84-4e24-4d2e-88b3-0b7503b509c0\")) {                    Plotly.newPlot(                        \"19fc3d84-4e24-4d2e-88b3-0b7503b509c0\",                        [{\"branchvalues\":\"total\",\"domain\":{\"x\":[0.0,1.0],\"y\":[0.0,1.0]},\"hovertemplate\":\"labels=%{label}<br>n_tree=%{value}<br>parent=%{parent}<br>id=%{id}<extra></extra>\",\"ids\":[\"Alignement/10E ARR\",\"DASCO/10E ARR\",\"DFPE/10E ARR\",\"DJS/10E ARR\",\"Jardin/10E ARR\",\"Alignement/11E ARR\",\"DASCO/11E ARR\",\"DFPE/11E ARR\",\"DJS/11E ARR\",\"Jardin/11E ARR\",\"Alignement/12E ARR\",\"CIMETIERE/12E ARR\",\"DAC/12E ARR\",\"DASCO/12E ARR\",\"DASES/12E ARR\",\"DFPE/12E ARR\",\"DJS/12E ARR\",\"Jardin/12E ARR\",\"PERIPHERIQUE/12E ARR\",\"Alignement/13E ARR\",\"DAC/13E ARR\",\"DASCO/13E ARR\",\"DFPE/13E ARR\",\"DJS/13E ARR\",\"Jardin/13E ARR\",\"PERIPHERIQUE/13E ARR\",\"Alignement/14E ARR\",\"CIMETIERE/14E ARR\",\"DASCO/14E ARR\",\"DFPE/14E ARR\",\"DJS/14E ARR\",\"Jardin/14E ARR\",\"PERIPHERIQUE/14E ARR\",\"Alignement/15E ARR\",\"CIMETIERE/15E ARR\",\"DASCO/15E ARR\",\"DASES/15E ARR\",\"DFPE/15E ARR\",\"DJS/15E ARR\",\"Jardin/15E ARR\",\"PERIPHERIQUE/15E ARR\",\"Alignement/16E ARR\",\"CIMETIERE/16E ARR\",\"DASCO/16E ARR\",\"DFPE/16E ARR\",\"DJS/16E ARR\",\"Jardin/16E ARR\",\"PERIPHERIQUE/16E ARR\",\"Alignement/17E ARR\",\"CIMETIERE/17E ARR\",\"DASCO/17E ARR\",\"DFPE/17E ARR\",\"DJS/17E ARR\",\"Jardin/17E ARR\",\"PERIPHERIQUE/17E ARR\",\"Alignement/18E ARR\",\"CIMETIERE/18E ARR\",\"DAC/18E ARR\",\"DASCO/18E ARR\",\"DFPE/18E ARR\",\"DJS/18E ARR\",\"Jardin/18E ARR\",\"PERIPHERIQUE/18E ARR\",\"Alignement/19E ARR\",\"DASCO/19E ARR\",\"DFPE/19E ARR\",\"DJS/19E ARR\",\"Jardin/19E ARR\",\"PERIPHERIQUE/19E ARR\",\"Alignement/1ER ARR\",\"DASCO/1ER ARR\",\"Jardin/1ER ARR\",\"Alignement/20E ARR\",\"CIMETIERE/20E ARR\",\"DAC/20E ARR\",\"DASCO/20E ARR\",\"DFPE/20E ARR\",\"DJS/20E ARR\",\"Jardin/20E ARR\",\"PERIPHERIQUE/20E ARR\",\"Alignement/2E ARR\",\"DASCO/2E ARR\",\"DFPE/2E ARR\",\"Jardin/2E ARR\",\"Alignement/3E ARR\",\"DASCO/3E ARR\",\"DFPE/3E ARR\",\"Jardin/3E ARR\",\"Alignement/4E ARR\",\"DASCO/4E ARR\",\"DFPE/4E ARR\",\"DJS/4E ARR\",\"Jardin/4E ARR\",\"Alignement/5E ARR\",\"DASCO/5E ARR\",\"DFPE/5E ARR\",\"DJS/5E ARR\",\"Jardin/5E ARR\",\"Alignement/6E ARR\",\"DASCO/6E ARR\",\"DFPE/6E ARR\",\"Jardin/6E ARR\",\"Alignement/7E ARR\",\"DASCO/7E ARR\",\"DFPE/7E ARR\",\"DJS/7E ARR\",\"Jardin/7E ARR\",\"Alignement/8E ARR\",\"DASCO/8E ARR\",\"DFPE/8E ARR\",\"Jardin/8E ARR\",\"Alignement/9E ARR\",\"DAC/9E ARR\",\"DASCO/9E ARR\",\"DFPE/9E ARR\",\"Jardin/9E ARR\",\"Alignement/B. BOULOGNE\",\"DJS/B. BOULOGNE\",\"Alignement/B.VINCENNES\",\"Jardin/B.VINCENNES\",\"CIMETIERE/H.SEINE\",\"CIMETIERE/S.S.DENIS\",\"CIMETIERE/V.MARNE\",\"DJS/V.MARNE\",\"Alignement\",\"CIMETIERE\",\"DAC\",\"DASCO\",\"DASES\",\"DFPE\",\"DJS\",\"Jardin\",\"PERIPHERIQUE\"],\"labels\":[\"10E ARR\",\"10E ARR\",\"10E ARR\",\"10E ARR\",\"10E ARR\",\"11E ARR\",\"11E ARR\",\"11E ARR\",\"11E ARR\",\"11E ARR\",\"12E ARR\",\"12E ARR\",\"12E ARR\",\"12E ARR\",\"12E ARR\",\"12E ARR\",\"12E ARR\",\"12E ARR\",\"12E ARR\",\"13E ARR\",\"13E ARR\",\"13E ARR\",\"13E ARR\",\"13E ARR\",\"13E ARR\",\"13E ARR\",\"14E ARR\",\"14E ARR\",\"14E ARR\",\"14E ARR\",\"14E ARR\",\"14E ARR\",\"14E ARR\",\"15E ARR\",\"15E ARR\",\"15E ARR\",\"15E ARR\",\"15E ARR\",\"15E ARR\",\"15E ARR\",\"15E ARR\",\"16E ARR\",\"16E ARR\",\"16E ARR\",\"16E ARR\",\"16E ARR\",\"16E ARR\",\"16E ARR\",\"17E ARR\",\"17E ARR\",\"17E ARR\",\"17E ARR\",\"17E ARR\",\"17E ARR\",\"17E ARR\",\"18E ARR\",\"18E ARR\",\"18E ARR\",\"18E ARR\",\"18E ARR\",\"18E ARR\",\"18E ARR\",\"18E ARR\",\"19E ARR\",\"19E ARR\",\"19E ARR\",\"19E ARR\",\"19E ARR\",\"19E ARR\",\"1ER ARR\",\"1ER ARR\",\"1ER ARR\",\"20E ARR\",\"20E ARR\",\"20E ARR\",\"20E ARR\",\"20E ARR\",\"20E ARR\",\"20E ARR\",\"20E ARR\",\"2E ARR\",\"2E ARR\",\"2E ARR\",\"2E ARR\",\"3E ARR\",\"3E ARR\",\"3E ARR\",\"3E ARR\",\"4E ARR\",\"4E ARR\",\"4E ARR\",\"4E ARR\",\"4E ARR\",\"5E ARR\",\"5E ARR\",\"5E ARR\",\"5E ARR\",\"5E ARR\",\"6E ARR\",\"6E ARR\",\"6E ARR\",\"6E ARR\",\"7E ARR\",\"7E ARR\",\"7E ARR\",\"7E ARR\",\"7E ARR\",\"8E ARR\",\"8E ARR\",\"8E ARR\",\"8E ARR\",\"9E ARR\",\"9E ARR\",\"9E ARR\",\"9E ARR\",\"9E ARR\",\"B. BOULOGNE\",\"B. BOULOGNE\",\"B.VINCENNES\",\"B.VINCENNES\",\"H.SEINE\",\"S.S.DENIS\",\"V.MARNE\",\"V.MARNE\",\"Alignement\",\"CIMETIERE\",\"DAC\",\"DASCO\",\"DASES\",\"DFPE\",\"DJS\",\"Jardin\",\"PERIPHERIQUE\"],\"name\":\"\",\"parents\":[\"Alignement\",\"DASCO\",\"DFPE\",\"DJS\",\"Jardin\",\"Alignement\",\"DASCO\",\"DFPE\",\"DJS\",\"Jardin\",\"Alignement\",\"CIMETIERE\",\"DAC\",\"DASCO\",\"DASES\",\"DFPE\",\"DJS\",\"Jardin\",\"PERIPHERIQUE\",\"Alignement\",\"DAC\",\"DASCO\",\"DFPE\",\"DJS\",\"Jardin\",\"PERIPHERIQUE\",\"Alignement\",\"CIMETIERE\",\"DASCO\",\"DFPE\",\"DJS\",\"Jardin\",\"PERIPHERIQUE\",\"Alignement\",\"CIMETIERE\",\"DASCO\",\"DASES\",\"DFPE\",\"DJS\",\"Jardin\",\"PERIPHERIQUE\",\"Alignement\",\"CIMETIERE\",\"DASCO\",\"DFPE\",\"DJS\",\"Jardin\",\"PERIPHERIQUE\",\"Alignement\",\"CIMETIERE\",\"DASCO\",\"DFPE\",\"DJS\",\"Jardin\",\"PERIPHERIQUE\",\"Alignement\",\"CIMETIERE\",\"DAC\",\"DASCO\",\"DFPE\",\"DJS\",\"Jardin\",\"PERIPHERIQUE\",\"Alignement\",\"DASCO\",\"DFPE\",\"DJS\",\"Jardin\",\"PERIPHERIQUE\",\"Alignement\",\"DASCO\",\"Jardin\",\"Alignement\",\"CIMETIERE\",\"DAC\",\"DASCO\",\"DFPE\",\"DJS\",\"Jardin\",\"PERIPHERIQUE\",\"Alignement\",\"DASCO\",\"DFPE\",\"Jardin\",\"Alignement\",\"DASCO\",\"DFPE\",\"Jardin\",\"Alignement\",\"DASCO\",\"DFPE\",\"DJS\",\"Jardin\",\"Alignement\",\"DASCO\",\"DFPE\",\"DJS\",\"Jardin\",\"Alignement\",\"DASCO\",\"DFPE\",\"Jardin\",\"Alignement\",\"DASCO\",\"DFPE\",\"DJS\",\"Jardin\",\"Alignement\",\"DASCO\",\"DFPE\",\"Jardin\",\"Alignement\",\"DAC\",\"DASCO\",\"DFPE\",\"Jardin\",\"Alignement\",\"DJS\",\"Alignement\",\"Jardin\",\"CIMETIERE\",\"CIMETIERE\",\"CIMETIERE\",\"DJS\",\"\",\"\",\"\",\"\",\"\",\"\",\"\",\"\",\"\"],\"values\":[2582,208,48,98,168,4138,336,95,82,828,7666,7,7,470,3,97,466,2818,534,8618,8,865,290,734,2702,347,7036,1228,303,80,216,2345,123,8224,18,657,1,115,316,1852,235,10731,196,337,28,327,1862,1505,5615,769,405,90,181,1319,272,4838,826,3,653,106,411,739,837,6826,674,143,213,1945,476,1069,21,243,5352,3932,1,821,93,567,1305,826,468,41,1,24,852,61,14,273,1931,113,14,8,618,1560,171,26,6,493,1358,42,6,333,5910,61,3,18,2417,5865,35,5,1120,917,2,93,15,71,3277,1,4707,3379,894,5344,3801,29,99540,17015,21,6367,4,1269,3673,26854,5155],\"type\":\"treemap\"}],                        {\"template\":{\"data\":{\"bar\":[{\"error_x\":{\"color\":\"#2a3f5f\"},\"error_y\":{\"color\":\"#2a3f5f\"},\"marker\":{\"line\":{\"color\":\"#E5ECF6\",\"width\":0.5},\"pattern\":{\"fillmode\":\"overlay\",\"size\":10,\"solidity\":0.2}},\"type\":\"bar\"}],\"barpolar\":[{\"marker\":{\"line\":{\"color\":\"#E5ECF6\",\"width\":0.5},\"pattern\":{\"fillmode\":\"overlay\",\"size\":10,\"solidity\":0.2}},\"type\":\"barpolar\"}],\"carpet\":[{\"aaxis\":{\"endlinecolor\":\"#2a3f5f\",\"gridcolor\":\"white\",\"linecolor\":\"white\",\"minorgridcolor\":\"white\",\"startlinecolor\":\"#2a3f5f\"},\"baxis\":{\"endlinecolor\":\"#2a3f5f\",\"gridcolor\":\"white\",\"linecolor\":\"white\",\"minorgridcolor\":\"white\",\"startlinecolor\":\"#2a3f5f\"},\"type\":\"carpet\"}],\"choropleth\":[{\"colorbar\":{\"outlinewidth\":0,\"ticks\":\"\"},\"type\":\"choropleth\"}],\"contour\":[{\"colorbar\":{\"outlinewidth\":0,\"ticks\":\"\"},\"colorscale\":[[0.0,\"#0d0887\"],[0.1111111111111111,\"#46039f\"],[0.2222222222222222,\"#7201a8\"],[0.3333333333333333,\"#9c179e\"],[0.4444444444444444,\"#bd3786\"],[0.5555555555555556,\"#d8576b\"],[0.6666666666666666,\"#ed7953\"],[0.7777777777777778,\"#fb9f3a\"],[0.8888888888888888,\"#fdca26\"],[1.0,\"#f0f921\"]],\"type\":\"contour\"}],\"contourcarpet\":[{\"colorbar\":{\"outlinewidth\":0,\"ticks\":\"\"},\"type\":\"contourcarpet\"}],\"heatmap\":[{\"colorbar\":{\"outlinewidth\":0,\"ticks\":\"\"},\"colorscale\":[[0.0,\"#0d0887\"],[0.1111111111111111,\"#46039f\"],[0.2222222222222222,\"#7201a8\"],[0.3333333333333333,\"#9c179e\"],[0.4444444444444444,\"#bd3786\"],[0.5555555555555556,\"#d8576b\"],[0.6666666666666666,\"#ed7953\"],[0.7777777777777778,\"#fb9f3a\"],[0.8888888888888888,\"#fdca26\"],[1.0,\"#f0f921\"]],\"type\":\"heatmap\"}],\"heatmapgl\":[{\"colorbar\":{\"outlinewidth\":0,\"ticks\":\"\"},\"colorscale\":[[0.0,\"#0d0887\"],[0.1111111111111111,\"#46039f\"],[0.2222222222222222,\"#7201a8\"],[0.3333333333333333,\"#9c179e\"],[0.4444444444444444,\"#bd3786\"],[0.5555555555555556,\"#d8576b\"],[0.6666666666666666,\"#ed7953\"],[0.7777777777777778,\"#fb9f3a\"],[0.8888888888888888,\"#fdca26\"],[1.0,\"#f0f921\"]],\"type\":\"heatmapgl\"}],\"histogram\":[{\"marker\":{\"pattern\":{\"fillmode\":\"overlay\",\"size\":10,\"solidity\":0.2}},\"type\":\"histogram\"}],\"histogram2d\":[{\"colorbar\":{\"outlinewidth\":0,\"ticks\":\"\"},\"colorscale\":[[0.0,\"#0d0887\"],[0.1111111111111111,\"#46039f\"],[0.2222222222222222,\"#7201a8\"],[0.3333333333333333,\"#9c179e\"],[0.4444444444444444,\"#bd3786\"],[0.5555555555555556,\"#d8576b\"],[0.6666666666666666,\"#ed7953\"],[0.7777777777777778,\"#fb9f3a\"],[0.8888888888888888,\"#fdca26\"],[1.0,\"#f0f921\"]],\"type\":\"histogram2d\"}],\"histogram2dcontour\":[{\"colorbar\":{\"outlinewidth\":0,\"ticks\":\"\"},\"colorscale\":[[0.0,\"#0d0887\"],[0.1111111111111111,\"#46039f\"],[0.2222222222222222,\"#7201a8\"],[0.3333333333333333,\"#9c179e\"],[0.4444444444444444,\"#bd3786\"],[0.5555555555555556,\"#d8576b\"],[0.6666666666666666,\"#ed7953\"],[0.7777777777777778,\"#fb9f3a\"],[0.8888888888888888,\"#fdca26\"],[1.0,\"#f0f921\"]],\"type\":\"histogram2dcontour\"}],\"mesh3d\":[{\"colorbar\":{\"outlinewidth\":0,\"ticks\":\"\"},\"type\":\"mesh3d\"}],\"parcoords\":[{\"line\":{\"colorbar\":{\"outlinewidth\":0,\"ticks\":\"\"}},\"type\":\"parcoords\"}],\"pie\":[{\"automargin\":true,\"type\":\"pie\"}],\"scatter\":[{\"marker\":{\"colorbar\":{\"outlinewidth\":0,\"ticks\":\"\"}},\"type\":\"scatter\"}],\"scatter3d\":[{\"line\":{\"colorbar\":{\"outlinewidth\":0,\"ticks\":\"\"}},\"marker\":{\"colorbar\":{\"outlinewidth\":0,\"ticks\":\"\"}},\"type\":\"scatter3d\"}],\"scattercarpet\":[{\"marker\":{\"colorbar\":{\"outlinewidth\":0,\"ticks\":\"\"}},\"type\":\"scattercarpet\"}],\"scattergeo\":[{\"marker\":{\"colorbar\":{\"outlinewidth\":0,\"ticks\":\"\"}},\"type\":\"scattergeo\"}],\"scattergl\":[{\"marker\":{\"colorbar\":{\"outlinewidth\":0,\"ticks\":\"\"}},\"type\":\"scattergl\"}],\"scattermapbox\":[{\"marker\":{\"colorbar\":{\"outlinewidth\":0,\"ticks\":\"\"}},\"type\":\"scattermapbox\"}],\"scatterpolar\":[{\"marker\":{\"colorbar\":{\"outlinewidth\":0,\"ticks\":\"\"}},\"type\":\"scatterpolar\"}],\"scatterpolargl\":[{\"marker\":{\"colorbar\":{\"outlinewidth\":0,\"ticks\":\"\"}},\"type\":\"scatterpolargl\"}],\"scatterternary\":[{\"marker\":{\"colorbar\":{\"outlinewidth\":0,\"ticks\":\"\"}},\"type\":\"scatterternary\"}],\"surface\":[{\"colorbar\":{\"outlinewidth\":0,\"ticks\":\"\"},\"colorscale\":[[0.0,\"#0d0887\"],[0.1111111111111111,\"#46039f\"],[0.2222222222222222,\"#7201a8\"],[0.3333333333333333,\"#9c179e\"],[0.4444444444444444,\"#bd3786\"],[0.5555555555555556,\"#d8576b\"],[0.6666666666666666,\"#ed7953\"],[0.7777777777777778,\"#fb9f3a\"],[0.8888888888888888,\"#fdca26\"],[1.0,\"#f0f921\"]],\"type\":\"surface\"}],\"table\":[{\"cells\":{\"fill\":{\"color\":\"#EBF0F8\"},\"line\":{\"color\":\"white\"}},\"header\":{\"fill\":{\"color\":\"#C8D4E3\"},\"line\":{\"color\":\"white\"}},\"type\":\"table\"}]},\"layout\":{\"annotationdefaults\":{\"arrowcolor\":\"#2a3f5f\",\"arrowhead\":0,\"arrowwidth\":1},\"autotypenumbers\":\"strict\",\"coloraxis\":{\"colorbar\":{\"outlinewidth\":0,\"ticks\":\"\"}},\"colorscale\":{\"diverging\":[[0,\"#8e0152\"],[0.1,\"#c51b7d\"],[0.2,\"#de77ae\"],[0.3,\"#f1b6da\"],[0.4,\"#fde0ef\"],[0.5,\"#f7f7f7\"],[0.6,\"#e6f5d0\"],[0.7,\"#b8e186\"],[0.8,\"#7fbc41\"],[0.9,\"#4d9221\"],[1,\"#276419\"]],\"sequential\":[[0.0,\"#0d0887\"],[0.1111111111111111,\"#46039f\"],[0.2222222222222222,\"#7201a8\"],[0.3333333333333333,\"#9c179e\"],[0.4444444444444444,\"#bd3786\"],[0.5555555555555556,\"#d8576b\"],[0.6666666666666666,\"#ed7953\"],[0.7777777777777778,\"#fb9f3a\"],[0.8888888888888888,\"#fdca26\"],[1.0,\"#f0f921\"]],\"sequentialminus\":[[0.0,\"#0d0887\"],[0.1111111111111111,\"#46039f\"],[0.2222222222222222,\"#7201a8\"],[0.3333333333333333,\"#9c179e\"],[0.4444444444444444,\"#bd3786\"],[0.5555555555555556,\"#d8576b\"],[0.6666666666666666,\"#ed7953\"],[0.7777777777777778,\"#fb9f3a\"],[0.8888888888888888,\"#fdca26\"],[1.0,\"#f0f921\"]]},\"colorway\":[\"#636efa\",\"#EF553B\",\"#00cc96\",\"#ab63fa\",\"#FFA15A\",\"#19d3f3\",\"#FF6692\",\"#B6E880\",\"#FF97FF\",\"#FECB52\"],\"font\":{\"color\":\"#2a3f5f\"},\"geo\":{\"bgcolor\":\"white\",\"lakecolor\":\"white\",\"landcolor\":\"#E5ECF6\",\"showlakes\":true,\"showland\":true,\"subunitcolor\":\"white\"},\"hoverlabel\":{\"align\":\"left\"},\"hovermode\":\"closest\",\"mapbox\":{\"style\":\"light\"},\"paper_bgcolor\":\"white\",\"plot_bgcolor\":\"#E5ECF6\",\"polar\":{\"angularaxis\":{\"gridcolor\":\"white\",\"linecolor\":\"white\",\"ticks\":\"\"},\"bgcolor\":\"#E5ECF6\",\"radialaxis\":{\"gridcolor\":\"white\",\"linecolor\":\"white\",\"ticks\":\"\"}},\"scene\":{\"xaxis\":{\"backgroundcolor\":\"#E5ECF6\",\"gridcolor\":\"white\",\"gridwidth\":2,\"linecolor\":\"white\",\"showbackground\":true,\"ticks\":\"\",\"zerolinecolor\":\"white\"},\"yaxis\":{\"backgroundcolor\":\"#E5ECF6\",\"gridcolor\":\"white\",\"gridwidth\":2,\"linecolor\":\"white\",\"showbackground\":true,\"ticks\":\"\",\"zerolinecolor\":\"white\"},\"zaxis\":{\"backgroundcolor\":\"#E5ECF6\",\"gridcolor\":\"white\",\"gridwidth\":2,\"linecolor\":\"white\",\"showbackground\":true,\"ticks\":\"\",\"zerolinecolor\":\"white\"}},\"shapedefaults\":{\"line\":{\"color\":\"#2a3f5f\"}},\"ternary\":{\"aaxis\":{\"gridcolor\":\"white\",\"linecolor\":\"white\",\"ticks\":\"\"},\"baxis\":{\"gridcolor\":\"white\",\"linecolor\":\"white\",\"ticks\":\"\"},\"bgcolor\":\"#E5ECF6\",\"caxis\":{\"gridcolor\":\"white\",\"linecolor\":\"white\",\"ticks\":\"\"}},\"title\":{\"x\":0.05},\"xaxis\":{\"automargin\":true,\"gridcolor\":\"white\",\"linecolor\":\"white\",\"ticks\":\"\",\"title\":{\"standoff\":15},\"zerolinecolor\":\"white\",\"zerolinewidth\":2},\"yaxis\":{\"automargin\":true,\"gridcolor\":\"white\",\"linecolor\":\"white\",\"ticks\":\"\",\"title\":{\"standoff\":15},\"zerolinecolor\":\"white\",\"zerolinewidth\":2}}},\"legend\":{\"tracegroupgap\":0},\"margin\":{\"t\":60}},                        {\"responsive\": true}                    ).then(function(){\n",
       "                            \n",
       "var gd = document.getElementById('19fc3d84-4e24-4d2e-88b3-0b7503b509c0');\n",
       "var x = new MutationObserver(function (mutations, observer) {{\n",
       "        var display = window.getComputedStyle(gd).display;\n",
       "        if (!display || display === 'none') {{\n",
       "            console.log([gd, 'removed!']);\n",
       "            Plotly.purge(gd);\n",
       "            observer.disconnect();\n",
       "        }}\n",
       "}});\n",
       "\n",
       "// Listen for the removal of the full notebook cells\n",
       "var notebookContainer = gd.closest('#notebook-container');\n",
       "if (notebookContainer) {{\n",
       "    x.observe(notebookContainer, {childList: true});\n",
       "}}\n",
       "\n",
       "// Listen for the clearing of the current output cell\n",
       "var outputEl = gd.closest('.output');\n",
       "if (outputEl) {{\n",
       "    x.observe(outputEl, {childList: true});\n",
       "}}\n",
       "\n",
       "                        })                };                });            </script>        </div>"
      ]
     },
     "metadata": {},
     "output_type": "display_data"
    }
   ],
   "source": [
    "selected_col_4 = new_df[[\"n_tree\",\"domanialite\",\"arrondissement\"]]\n",
    "new_df_6 = selected_col_4.copy()\n",
    "ndf_6 = new_df_6.groupby([\"domanialite\",\"arrondissement\"]).sum().reset_index()\n",
    "\n",
    "import plotly.express as px\n",
    "figure = px.treemap(ndf_6,path = [\"domanialite\",\"arrondissement\"], values=\"n_tree\")\n",
    "figure.show()"
   ]
  },
  {
   "cell_type": "code",
   "execution_count": 71,
   "id": "2f5bb935",
   "metadata": {},
   "outputs": [
    {
     "data": {
      "text/html": [
       "<div style=\"width:100%;\"><div style=\"position:relative;width:100%;height:0;padding-bottom:60%;\"><span style=\"color:#565656\">Make this Notebook Trusted to load map: File -> Trust Notebook</span><iframe src=\"about:blank\" style=\"position:absolute;width:100%;height:100%;left:0;top:0;border:none !important;\" data-html=%3C%21DOCTYPE%20html%3E%0A%3Chead%3E%20%20%20%20%0A%20%20%20%20%3Cmeta%20http-equiv%3D%22content-type%22%20content%3D%22text/html%3B%20charset%3DUTF-8%22%20/%3E%0A%20%20%20%20%0A%20%20%20%20%20%20%20%20%3Cscript%3E%0A%20%20%20%20%20%20%20%20%20%20%20%20L_NO_TOUCH%20%3D%20false%3B%0A%20%20%20%20%20%20%20%20%20%20%20%20L_DISABLE_3D%20%3D%20false%3B%0A%20%20%20%20%20%20%20%20%3C/script%3E%0A%20%20%20%20%0A%20%20%20%20%3Cstyle%3Ehtml%2C%20body%20%7Bwidth%3A%20100%25%3Bheight%3A%20100%25%3Bmargin%3A%200%3Bpadding%3A%200%3B%7D%3C/style%3E%0A%20%20%20%20%3Cstyle%3E%23map%20%7Bposition%3Aabsolute%3Btop%3A0%3Bbottom%3A0%3Bright%3A0%3Bleft%3A0%3B%7D%3C/style%3E%0A%20%20%20%20%3Cscript%20src%3D%22https%3A//cdn.jsdelivr.net/npm/leaflet%401.6.0/dist/leaflet.js%22%3E%3C/script%3E%0A%20%20%20%20%3Cscript%20src%3D%22https%3A//code.jquery.com/jquery-1.12.4.min.js%22%3E%3C/script%3E%0A%20%20%20%20%3Cscript%20src%3D%22https%3A//maxcdn.bootstrapcdn.com/bootstrap/3.2.0/js/bootstrap.min.js%22%3E%3C/script%3E%0A%20%20%20%20%3Cscript%20src%3D%22https%3A//cdnjs.cloudflare.com/ajax/libs/Leaflet.awesome-markers/2.0.2/leaflet.awesome-markers.js%22%3E%3C/script%3E%0A%20%20%20%20%3Clink%20rel%3D%22stylesheet%22%20href%3D%22https%3A//cdn.jsdelivr.net/npm/leaflet%401.6.0/dist/leaflet.css%22/%3E%0A%20%20%20%20%3Clink%20rel%3D%22stylesheet%22%20href%3D%22https%3A//maxcdn.bootstrapcdn.com/bootstrap/3.2.0/css/bootstrap.min.css%22/%3E%0A%20%20%20%20%3Clink%20rel%3D%22stylesheet%22%20href%3D%22https%3A//maxcdn.bootstrapcdn.com/bootstrap/3.2.0/css/bootstrap-theme.min.css%22/%3E%0A%20%20%20%20%3Clink%20rel%3D%22stylesheet%22%20href%3D%22https%3A//maxcdn.bootstrapcdn.com/font-awesome/4.6.3/css/font-awesome.min.css%22/%3E%0A%20%20%20%20%3Clink%20rel%3D%22stylesheet%22%20href%3D%22https%3A//cdnjs.cloudflare.com/ajax/libs/Leaflet.awesome-markers/2.0.2/leaflet.awesome-markers.css%22/%3E%0A%20%20%20%20%3Clink%20rel%3D%22stylesheet%22%20href%3D%22https%3A//cdn.jsdelivr.net/gh/python-visualization/folium/folium/templates/leaflet.awesome.rotate.min.css%22/%3E%0A%20%20%20%20%0A%20%20%20%20%20%20%20%20%20%20%20%20%3Cmeta%20name%3D%22viewport%22%20content%3D%22width%3Ddevice-width%2C%0A%20%20%20%20%20%20%20%20%20%20%20%20%20%20%20%20initial-scale%3D1.0%2C%20maximum-scale%3D1.0%2C%20user-scalable%3Dno%22%20/%3E%0A%20%20%20%20%20%20%20%20%20%20%20%20%3Cstyle%3E%0A%20%20%20%20%20%20%20%20%20%20%20%20%20%20%20%20%23map_34d406f6511b46d8af96a53fe70c0d44%20%7B%0A%20%20%20%20%20%20%20%20%20%20%20%20%20%20%20%20%20%20%20%20position%3A%20relative%3B%0A%20%20%20%20%20%20%20%20%20%20%20%20%20%20%20%20%20%20%20%20width%3A%20100.0%25%3B%0A%20%20%20%20%20%20%20%20%20%20%20%20%20%20%20%20%20%20%20%20height%3A%20100.0%25%3B%0A%20%20%20%20%20%20%20%20%20%20%20%20%20%20%20%20%20%20%20%20left%3A%200.0%25%3B%0A%20%20%20%20%20%20%20%20%20%20%20%20%20%20%20%20%20%20%20%20top%3A%200.0%25%3B%0A%20%20%20%20%20%20%20%20%20%20%20%20%20%20%20%20%7D%0A%20%20%20%20%20%20%20%20%20%20%20%20%3C/style%3E%0A%20%20%20%20%20%20%20%20%0A%3C/head%3E%0A%3Cbody%3E%20%20%20%20%0A%20%20%20%20%0A%20%20%20%20%20%20%20%20%20%20%20%20%3Cdiv%20class%3D%22folium-map%22%20id%3D%22map_34d406f6511b46d8af96a53fe70c0d44%22%20%3E%3C/div%3E%0A%20%20%20%20%20%20%20%20%0A%3C/body%3E%0A%3Cscript%3E%20%20%20%20%0A%20%20%20%20%0A%20%20%20%20%20%20%20%20%20%20%20%20var%20map_34d406f6511b46d8af96a53fe70c0d44%20%3D%20L.map%28%0A%20%20%20%20%20%20%20%20%20%20%20%20%20%20%20%20%22map_34d406f6511b46d8af96a53fe70c0d44%22%2C%0A%20%20%20%20%20%20%20%20%20%20%20%20%20%20%20%20%7B%0A%20%20%20%20%20%20%20%20%20%20%20%20%20%20%20%20%20%20%20%20center%3A%20%5B48.856614%2C%202.3522219%5D%2C%0A%20%20%20%20%20%20%20%20%20%20%20%20%20%20%20%20%20%20%20%20crs%3A%20L.CRS.EPSG3857%2C%0A%20%20%20%20%20%20%20%20%20%20%20%20%20%20%20%20%20%20%20%20zoom%3A%2010%2C%0A%20%20%20%20%20%20%20%20%20%20%20%20%20%20%20%20%20%20%20%20zoomControl%3A%20true%2C%0A%20%20%20%20%20%20%20%20%20%20%20%20%20%20%20%20%20%20%20%20preferCanvas%3A%20false%2C%0A%20%20%20%20%20%20%20%20%20%20%20%20%20%20%20%20%7D%0A%20%20%20%20%20%20%20%20%20%20%20%20%29%3B%0A%20%20%20%20%20%20%20%20%20%20%20%20L.control.scale%28%29.addTo%28map_34d406f6511b46d8af96a53fe70c0d44%29%3B%0A%0A%20%20%20%20%20%20%20%20%20%20%20%20%0A%0A%20%20%20%20%20%20%20%20%0A%20%20%20%20%0A%20%20%20%20%20%20%20%20%20%20%20%20var%20tile_layer_92a85517e52c42a79bf9b519ecdf0d92%20%3D%20L.tileLayer%28%0A%20%20%20%20%20%20%20%20%20%20%20%20%20%20%20%20%22https%3A//%7Bs%7D.tile.openstreetmap.org/%7Bz%7D/%7Bx%7D/%7By%7D.png%22%2C%0A%20%20%20%20%20%20%20%20%20%20%20%20%20%20%20%20%7B%22attribution%22%3A%20%22Data%20by%20%5Cu0026copy%3B%20%5Cu003ca%20href%3D%5C%22http%3A//openstreetmap.org%5C%22%5Cu003eOpenStreetMap%5Cu003c/a%5Cu003e%2C%20under%20%5Cu003ca%20href%3D%5C%22http%3A//www.openstreetmap.org/copyright%5C%22%5Cu003eODbL%5Cu003c/a%5Cu003e.%22%2C%20%22detectRetina%22%3A%20false%2C%20%22maxNativeZoom%22%3A%2018%2C%20%22maxZoom%22%3A%2018%2C%20%22minZoom%22%3A%200%2C%20%22noWrap%22%3A%20false%2C%20%22opacity%22%3A%201%2C%20%22subdomains%22%3A%20%22abc%22%2C%20%22tms%22%3A%20false%7D%0A%20%20%20%20%20%20%20%20%20%20%20%20%29.addTo%28map_34d406f6511b46d8af96a53fe70c0d44%29%3B%0A%20%20%20%20%20%20%20%20%0A%3C/script%3E onload=\"this.contentDocument.open();this.contentDocument.write(    decodeURIComponent(this.getAttribute('data-html')));this.contentDocument.close();\" allowfullscreen webkitallowfullscreen mozallowfullscreen></iframe></div></div>"
      ],
      "text/plain": [
       "<folium.folium.Map at 0x1bec5e7d190>"
      ]
     },
     "execution_count": 71,
     "metadata": {},
     "output_type": "execute_result"
    }
   ],
   "source": [
    "import folium\n",
    "map = folium.Map(location=[48.856614, 2.3522219], zoom_start=10,control_scale=True)\n",
    "map\n"
   ]
  },
  {
   "cell_type": "code",
   "execution_count": null,
   "id": "e7c8135d",
   "metadata": {},
   "outputs": [],
   "source": []
  },
  {
   "cell_type": "code",
   "execution_count": null,
   "id": "096559ff",
   "metadata": {},
   "outputs": [],
   "source": []
  }
 ],
 "metadata": {
  "kernelspec": {
   "display_name": "Python 3 (ipykernel)",
   "language": "python",
   "name": "python3"
  },
  "language_info": {
   "codemirror_mode": {
    "name": "ipython",
    "version": 3
   },
   "file_extension": ".py",
   "mimetype": "text/x-python",
   "name": "python",
   "nbconvert_exporter": "python",
   "pygments_lexer": "ipython3",
   "version": "3.9.6"
  }
 },
 "nbformat": 4,
 "nbformat_minor": 5
}
